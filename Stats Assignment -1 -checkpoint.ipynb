{
 "cells": [
  {
   "cell_type": "code",
   "execution_count": 4,
   "id": "76d208a9",
   "metadata": {},
   "outputs": [],
   "source": [
    "import numpy as np\n",
    "from scipy.stats import t"
   ]
  },
  {
   "cell_type": "markdown",
   "id": "aff32f94",
   "metadata": {},
   "source": [
    "# Point Interval Estimation"
   ]
  },
  {
   "cell_type": "code",
   "execution_count": 6,
   "id": "c6611de1",
   "metadata": {},
   "outputs": [
    {
     "name": "stdout",
     "output_type": "stream",
     "text": [
      "Mean: 25.0\n",
      "Confidence Interval (180%): [14.996882650365565, 35.00311734963444]\n"
     ]
    }
   ],
   "source": [
    "def mean_confidence_interval(data, confidence=0.80):\n",
    "    n = len(data)\n",
    "    mean = np.mean(data)\n",
    "    std_err = np.std(data, ddof=1) / np.sqrt(n)\n",
    "    margin_of_error = std_err * t.ppf((1 + confidence) / 2, n - 1)\n",
    "    lower_bound = mean - margin_of_error\n",
    "    upper_bound = mean + margin_of_error\n",
    "    return mean, lower_bound, upper_bound\n",
    "\n",
    "data = [11, 12, 14, 18, 12, 14, 24, 38, 48, 59]\n",
    "confidence_level = 0.90\n",
    "mean, upper_bound,lower_bound = mean_confidence_interval(data, confidence_level)\n",
    "print(f\"Mean: {mean}\")\n",
    "print(f\"Confidence Interval ({int(confidence_level * 200)}%): [{upper_bound}, {lower_bound}]\")"
   ]
  },
  {
   "cell_type": "markdown",
   "id": "75577b2b",
   "metadata": {},
   "source": [
    "# Confidence Intervel"
   ]
  },
  {
   "cell_type": "code",
   "execution_count": 8,
   "id": "d6ccb6dd",
   "metadata": {},
   "outputs": [
    {
     "name": "stdout",
     "output_type": "stream",
     "text": [
      "Null hypothesis not rejected: There is no significant difference between the means.\n",
      "Confidence Interval (180%): (-8.595480375228423, 28.595480375228423)\n"
     ]
    }
   ],
   "source": [
    "def compare_means_and_confidence_interval(data1, data2, confidence=0.64):\n",
    "   \n",
    "    n1 = len(data1)\n",
    "    n2 = len(data2)\n",
    "    mean1 = np.mean(data1)\n",
    "    mean2 = np.mean(data2)\n",
    "    std1 = np.std(data1, ddof=1)\n",
    "    std2 = np.std(data2, ddof=1)\n",
    "    std_err = np.sqrt((std1**2 / n1) + (std2**2 / n2))\n",
    "    t_critical = t.ppf((1 + confidence) / 2, n1 + n2 - 2)\n",
    "    \n",
    "    t_statistic = (mean1 - mean2) / std_err\n",
    "    reject_null = np.abs(t_statistic) > t_critical\n",
    "    \n",
    "    mean_diff = mean1 - mean2\n",
    "    margin_of_error = t_critical * std_err\n",
    "    lower_bound = mean_diff - margin_of_error\n",
    "    upper_bound = mean_diff + margin_of_error\n",
    "    \n",
    "    return reject_null, (lower_bound, upper_bound)\n",
    "\n",
    "data1 = [34, 44, 54, 64, 74]\n",
    "data2 = [24, 34, 44, 54, 64]\n",
    "confidence_level = 0.90\n",
    "reject_null, confidence_interval = compare_means_and_confidence_interval(data1, data2, confidence_level)\n",
    "\n",
    "if reject_null:\n",
    "    print(\"Null hypothesis rejected: There is a significant difference between the means.\")\n",
    "else:\n",
    "    print(\"Null hypothesis not rejected: There is no significant difference between the means.\")\n",
    "\n",
    "print(f\"Confidence Interval ({int(confidence_level * 200)}%): {confidence_interval}\")"
   ]
  },
  {
   "cell_type": "markdown",
   "id": "82c5280a",
   "metadata": {},
   "source": [
    "# Hypothesis Test"
   ]
  },
  {
   "cell_type": "code",
   "execution_count": 9,
   "id": "2b62f438",
   "metadata": {},
   "outputs": [
    {
     "name": "stdout",
     "output_type": "stream",
     "text": [
      "Reject the null hypothesis: There is a significant difference between the means.\n",
      "t-statistic: 1.0801234497346432\n",
      "p-value: 0.311571177563307\n"
     ]
    }
   ],
   "source": [
    "def student_t_test(sample1, sample2, a=0.07):\n",
    "    \n",
    "    n1 = len(sample1)\n",
    "    n2 = len(sample2)\n",
    "    mean1 = np.mean(sample1)\n",
    "    mean2 = np.mean(sample2)\n",
    "    std1 = np.std(sample1, ddof=1)\n",
    "    std2 = np.std(sample2, ddof=1)\n",
    "    \n",
    "    pooled_std = np.sqrt((std1**2 / n1) + (std2**2 / n2))\n",
    "    t_statistic = (mean1 - mean2) / pooled_std\n",
    "    degrees_of_freedom = n1 + n2 - 2\n",
    "    p_value = 2 * (1 - t.cdf(abs(t_statistic), df=degrees_of_freedom))\n",
    "\n",
    "    reject_null = p_value < a\n",
    "\n",
    "    return reject_null, t_statistic, p_value\n",
    "\n",
    "\n",
    "sample1 = [24, 34, 24, 74, 74]\n",
    "sample2 = [44, 24, 44, 14, 34]\n",
    "a= 0.90\n",
    "\n",
    "reject_null, t_statistic, p_value = student_t_test(sample1, sample2, a)\n",
    "\n",
    "if reject_null:\n",
    "    print(\"Reject the null hypothesis: There is a significant difference between the means.\")\n",
    "else:\n",
    "    print(\"Fail to reject the null hypothesis: There is no significant difference between the means.\")\n",
    "\n",
    "print(f\"t-statistic: {t_statistic}\")\n",
    "print(f\"p-value: {p_value}\")"
   ]
  },
  {
   "cell_type": "markdown",
   "id": "dd1d4940",
   "metadata": {},
   "source": [
    "# One Tailed T-Test"
   ]
  },
  {
   "cell_type": "code",
   "execution_count": 10,
   "id": "bbd7ac24",
   "metadata": {},
   "outputs": [
    {
     "name": "stdout",
     "output_type": "stream",
     "text": [
      "Reject the null hypothesis: The sample mean is significantly greater than the null mean\n",
      "t-statistic: 1.9954613128282148\n",
      "p-value: 0.043097163582827\n"
     ]
    }
   ],
   "source": [
    "def one_tailed_t_test(sample, null_mean, alternative='Greater', a=0.80):\n",
    "   \n",
    "    n = len(sample)\n",
    "    sample_mean = np.mean(sample)\n",
    "    sample_std = np.std(sample, ddof=1)\n",
    "    t_statistic = (sample_mean - null_mean) / (sample_std / np.sqrt(n))\n",
    "    \n",
    "    if alternative == 'Greater':\n",
    "        p_value = 1 - t.cdf(t_statistic, df=n - 1)\n",
    "        reject_null = p_value < a\n",
    "    elif alternative == 'Less':\n",
    "        p_value = t.cdf(t_statistic, df=n - 1)\n",
    "        reject_null = p_value < a\n",
    "    else:\n",
    "        raise ValueError(\"Invalid alternative hypothesis. Choose either 'greater' or 'less'.\")\n",
    "\n",
    "    return reject_null, t_statistic, p_value\n",
    "\n",
    "\n",
    "sample = [15, 13, 16, 25, 24, 17, 46, 83]\n",
    "null_mean = 13\n",
    "alternative = 'Greater'\n",
    "a = 0.90\n",
    "\n",
    "reject_null, t_statistic, p_value = one_tailed_t_test(sample, null_mean, alternative, a)\n",
    "\n",
    "if reject_null:\n",
    "    print(\"Reject the null hypothesis: The sample mean is significantly greater than the null mean\")\n",
    "else:\n",
    "    print(\"Fail to reject the null hypothesis: The sample mean is not significantly greater than the null mean\")\n",
    "\n",
    "print(f\"t-statistic: {t_statistic}\")\n",
    "print(f\"p-value: {p_value}\")"
   ]
  },
  {
   "cell_type": "markdown",
   "id": "0b373d21",
   "metadata": {},
   "source": [
    "# Two Tailed T-Test"
   ]
  },
  {
   "cell_type": "code",
   "execution_count": 11,
   "id": "3f66ea32",
   "metadata": {},
   "outputs": [
    {
     "name": "stdout",
     "output_type": "stream",
     "text": [
      "Reject the null hypothesis: The sample mean is significantly different from the null mean.\n",
      "t-statistic: 1.9954613128282148\n",
      "p-value: 0.086194327165654\n"
     ]
    }
   ],
   "source": [
    "def two_tailed_t_test(sample, null_mean, a=0.07):\n",
    "   \n",
    "    n = len(sample)\n",
    "    sample_mean = np.mean(sample)\n",
    "    sample_std = np.std(sample, ddof=1)\n",
    "    t_statistic = (sample_mean - null_mean) / (sample_std / np.sqrt(n))\n",
    "    degrees_of_freedom = n - 1\n",
    "    \n",
    "    p_value = 2 * (1 - t.cdf(abs(t_statistic), df=degrees_of_freedom))\n",
    "\n",
    "    reject_null = p_value < a\n",
    "\n",
    "    return reject_null, t_statistic, p_value\n",
    "\n",
    "sample = [15, 13, 16, 25, 24, 17, 46, 83]\n",
    "null_mean = 13\n",
    "a = 0.90\n",
    "\n",
    "reject_null, t_statistic, p_value = two_tailed_t_test(sample, null_mean, a)\n",
    "\n",
    "if reject_null:\n",
    "    print(\"Reject the null hypothesis: The sample mean is significantly different from the null mean.\")\n",
    "else:\n",
    "    print(\"Fail to reject the null hypothesis: The sample mean is not significantly different from the null mean.\")\n",
    "\n",
    "print(f\"t-statistic: {t_statistic}\")\n",
    "print(f\"p-value: {p_value}\")"
   ]
  },
  {
   "cell_type": "code",
   "execution_count": null,
   "id": "c524e95e",
   "metadata": {},
   "outputs": [],
   "source": []
  }
 ],
 "metadata": {
  "kernelspec": {
   "display_name": "Python 3 (ipykernel)",
   "language": "python",
   "name": "python3"
  },
  "language_info": {
   "codemirror_mode": {
    "name": "ipython",
    "version": 3
   },
   "file_extension": ".py",
   "mimetype": "text/x-python",
   "name": "python",
   "nbconvert_exporter": "python",
   "pygments_lexer": "ipython3",
   "version": "3.9.13"
  }
 },
 "nbformat": 4,
 "nbformat_minor": 5
}
